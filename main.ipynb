{
 "cells": [
  {
   "cell_type": "code",
   "execution_count": 457,
   "metadata": {
    "collapsed": true,
    "ExecuteTime": {
     "end_time": "2023-10-30T10:09:08.370680300Z",
     "start_time": "2023-10-30T10:09:08.348681400Z"
    }
   },
   "outputs": [],
   "source": [
    "import numpy as np\n",
    "import matplotlib.pyplot as plt\n",
    "import scipy.stats as stats"
   ]
  },
  {
   "cell_type": "code",
   "execution_count": 458,
   "outputs": [],
   "source": [
    "distribution = stats.expon"
   ],
   "metadata": {
    "collapsed": false,
    "ExecuteTime": {
     "end_time": "2023-10-30T10:09:08.425320800Z",
     "start_time": "2023-10-30T10:09:08.359679200Z"
    }
   }
  },
  {
   "cell_type": "code",
   "execution_count": 459,
   "outputs": [],
   "source": [
    "def binned_cdf(x1, x2):\n",
    "    return distribution.cdf(x2, scale=1 / la) - distribution.cdf(x1, scale=1 / la)"
   ],
   "metadata": {
    "collapsed": false,
    "ExecuteTime": {
     "end_time": "2023-10-30T10:09:08.426343800Z",
     "start_time": "2023-10-30T10:09:08.373684300Z"
    }
   }
  },
  {
   "cell_type": "code",
   "execution_count": 460,
   "outputs": [],
   "source": [
    "n = 10000\n",
    "bin_count = 20"
   ],
   "metadata": {
    "collapsed": false,
    "ExecuteTime": {
     "end_time": "2023-10-30T10:09:08.426343800Z",
     "start_time": "2023-10-30T10:09:08.389681400Z"
    }
   }
  },
  {
   "cell_type": "code",
   "execution_count": 461,
   "outputs": [],
   "source": [
    "rng = np.random.default_rng(seed=42)"
   ],
   "metadata": {
    "collapsed": false,
    "ExecuteTime": {
     "end_time": "2023-10-30T10:09:08.426343800Z",
     "start_time": "2023-10-30T10:09:08.406689600Z"
    }
   }
  },
  {
   "cell_type": "markdown",
   "source": [
    "#### An example walk-through using lambda=5"
   ],
   "metadata": {
    "collapsed": false
   }
  },
  {
   "cell_type": "code",
   "execution_count": 462,
   "outputs": [],
   "source": [
    "values = rng.random(size=n)"
   ],
   "metadata": {
    "collapsed": false,
    "ExecuteTime": {
     "end_time": "2023-10-30T10:09:08.435281800Z",
     "start_time": "2023-10-30T10:09:08.420282100Z"
    }
   }
  },
  {
   "cell_type": "code",
   "execution_count": 463,
   "outputs": [],
   "source": [
    "la = 5"
   ],
   "metadata": {
    "collapsed": false,
    "ExecuteTime": {
     "end_time": "2023-10-30T10:09:08.468281100Z",
     "start_time": "2023-10-30T10:09:08.437281100Z"
    }
   }
  },
  {
   "cell_type": "code",
   "execution_count": 464,
   "outputs": [],
   "source": [
    "x = np.log(values) / la * (-1)"
   ],
   "metadata": {
    "collapsed": false,
    "ExecuteTime": {
     "end_time": "2023-10-30T10:09:08.468281100Z",
     "start_time": "2023-10-30T10:09:08.454279600Z"
    }
   }
  },
  {
   "cell_type": "code",
   "execution_count": 465,
   "outputs": [
    {
     "data": {
      "text/plain": "array([0.05124804, 0.16470656, 0.03049091, ..., 0.35994184, 0.19701544,\n       0.14641595])"
     },
     "execution_count": 465,
     "metadata": {},
     "output_type": "execute_result"
    }
   ],
   "source": [
    "x"
   ],
   "metadata": {
    "collapsed": false,
    "ExecuteTime": {
     "end_time": "2023-10-30T10:09:08.482295300Z",
     "start_time": "2023-10-30T10:09:08.471285Z"
    }
   }
  },
  {
   "cell_type": "code",
   "execution_count": 466,
   "outputs": [
    {
     "data": {
      "text/plain": "<Figure size 640x480 with 1 Axes>",
      "image/png": "[encoded data removed]"
     },
     "metadata": {},
     "output_type": "display_data"
    }
   ],
   "source": [
    "count, bins, _ = plt.hist(x, bins=bin_count)"
   ],
   "metadata": {
    "collapsed": false,
    "ExecuteTime": {
     "end_time": "2023-10-30T10:09:08.610893200Z",
     "start_time": "2023-10-30T10:09:08.484285700Z"
    }
   }
  },
  {
   "cell_type": "code",
   "execution_count": 467,
   "outputs": [
    {
     "data": {
      "text/plain": "0.20123401839699828"
     },
     "execution_count": 467,
     "metadata": {},
     "output_type": "execute_result"
    }
   ],
   "source": [
    "x.mean()"
   ],
   "metadata": {
    "collapsed": false,
    "ExecuteTime": {
     "end_time": "2023-10-30T10:09:08.650399500Z",
     "start_time": "2023-10-30T10:09:08.612930100Z"
    }
   }
  },
  {
   "cell_type": "code",
   "execution_count": 468,
   "outputs": [
    {
     "data": {
      "text/plain": "0.19942482685145302"
     },
     "execution_count": 468,
     "metadata": {},
     "output_type": "execute_result"
    }
   ],
   "source": [
    "x.std()"
   ],
   "metadata": {
    "collapsed": false,
    "ExecuteTime": {
     "end_time": "2023-10-30T10:09:08.670748400Z",
     "start_time": "2023-10-30T10:09:08.628370800Z"
    }
   }
  },
  {
   "cell_type": "code",
   "execution_count": 469,
   "outputs": [],
   "source": [
    "bc = binned_cdf(bins[:-1], bins[1:])\n",
    "# bc = bc + (1 - bc.sum()) / (bc.size)\n",
    "bc = bc / (bc.sum() * bin_count / (bc.size))\n",
    "bc;"
   ],
   "metadata": {
    "collapsed": false,
    "ExecuteTime": {
     "end_time": "2023-10-30T10:09:08.680377Z",
     "start_time": "2023-10-30T10:09:08.643373Z"
    }
   }
  },
  {
   "cell_type": "code",
   "execution_count": 470,
   "outputs": [
    {
     "data": {
      "text/plain": "Power_divergenceResult(statistic=19.548102328670325, pvalue=0.42221654977397344)"
     },
     "execution_count": 470,
     "metadata": {},
     "output_type": "execute_result"
    }
   ],
   "source": [
    "stats.chisquare(count, bc * n)"
   ],
   "metadata": {
    "collapsed": false,
    "ExecuteTime": {
     "end_time": "2023-10-30T10:09:08.681376600Z",
     "start_time": "2023-10-30T10:09:08.671382300Z"
    }
   }
  },
  {
   "cell_type": "markdown",
   "source": [
    "#### Using random lambdas\n",
    "(note the p-values < 0.05; makes sense to think about some type of correction)"
   ],
   "metadata": {
    "collapsed": false
   }
  },
  {
   "cell_type": "code",
   "execution_count": 471,
   "outputs": [
    {
     "name": "stdout",
     "output_type": "stream",
     "text": [
      "---set lambda to be 0.05---\n",
      "mean: 19.9 (expected 20.0)\n",
      "std : 20.4 (expected 20.0)\n",
      "Power_divergenceResult(statistic=55.34126291121474, pvalue=2.060553306221414e-05)\n",
      "\n",
      "---set lambda to be 0.31---\n",
      "mean: 3.2 (expected 3.2)\n",
      "std : 3.3 (expected 3.2)\n",
      "Power_divergenceResult(statistic=23.186300142754586, pvalue=0.22923574975167052)\n",
      "\n",
      "---set lambda to be 0.15---\n",
      "mean: 6.7 (expected 6.7)\n",
      "std : 6.7 (expected 6.7)\n",
      "Power_divergenceResult(statistic=18.001457348738136, pvalue=0.5223409269597614)\n",
      "\n",
      "---set lambda to be 0.29---\n",
      "mean: 3.4 (expected 3.4)\n",
      "std : 3.4 (expected 3.4)\n",
      "Power_divergenceResult(statistic=9.825663907552881, pvalue=0.9571159196364023)\n",
      "\n",
      "---set lambda to be 1.54---\n",
      "mean: 0.7 (expected 0.6)\n",
      "std : 0.7 (expected 0.6)\n",
      "Power_divergenceResult(statistic=36.10890441878581, pvalue=0.01023512429941201)\n",
      "\n"
     ]
    }
   ],
   "source": [
    "for i in range(5):\n",
    "    values = rng.random(size=n)\n",
    "    la = round(rng.random()/1.5*(i+0.1), 2)\n",
    "\n",
    "    x = np.log(values) / la * (-1)\n",
    "\n",
    "    count, bins = np.histogram(x, bins=bin_count)\n",
    "\n",
    "    bc = binned_cdf(bins[:-1], bins[1:])\n",
    "    bc = bc / (bc.sum() * bin_count / (bc.size))\n",
    "\n",
    "    # print(la, stats.chisquare(count, bc * n))\n",
    "\n",
    "    print(f'---set lambda to be {la}---')\n",
    "    print(f'mean: {x.mean():.1f} (expected {distribution.mean(scale=1/la):.1f})')\n",
    "    print(f'std : {x.std():.1f} (expected {distribution.std(scale=1/la):.1f})')\n",
    "\n",
    "    print(stats.chisquare(count, bc * n))\n",
    "\n",
    "    print()"
   ],
   "metadata": {
    "collapsed": false,
    "ExecuteTime": {
     "end_time": "2023-10-30T10:09:08.749250900Z",
     "start_time": "2023-10-30T10:09:08.676379600Z"
    }
   }
  }
 ],
 "metadata": {
  "kernelspec": {
   "display_name": "Python 3",
   "language": "python",
   "name": "python3"
  },
  "language_info": {
   "codemirror_mode": {
    "name": "ipython",
    "version": 2
   },
   "file_extension": ".py",
   "mimetype": "text/x-python",
   "name": "python",
   "nbconvert_exporter": "python",
   "pygments_lexer": "ipython2",
   "version": "2.7.6"
  }
 },
 "nbformat": 4,
 "nbformat_minor": 0
}
